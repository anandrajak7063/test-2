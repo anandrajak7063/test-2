{
  "nbformat": 4,
  "nbformat_minor": 0,
  "metadata": {
    "colab": {
      "provenance": []
    },
    "kernelspec": {
      "name": "python3",
      "display_name": "Python 3"
    },
    "language_info": {
      "name": "python"
    }
  },
  "cells": [
    {
      "cell_type": "code",
      "execution_count": null,
      "metadata": {
        "colab": {
          "base_uri": "https://localhost:8080/"
        },
        "id": "jbU1l5PfOdSa",
        "outputId": "257691fb-8ee7-4365-e5c7-d3758aa9822e"
      },
      "outputs": [
        {
          "output_type": "stream",
          "name": "stdout",
          "text": [
            "11\n"
          ]
        }
      ],
      "source": [
        "#1#\n",
        "my_string=\"hello,world\"\n",
        "length_of_string=len(my_string)\n",
        "print(length_of_string)"
      ]
    },
    {
      "cell_type": "code",
      "source": [
        "from typing import MutableSequence\n",
        "#2#\n",
        "list=Mutable\n",
        "*list also use in round braket()\n",
        "tuple=immutable\n",
        "*tuple always use in sqaure braket[]"
      ],
      "metadata": {
        "id": "8jatOu1OPVMF"
      },
      "execution_count": null,
      "outputs": []
    },
    {
      "cell_type": "code",
      "source": [
        "#4#\n",
        "my_list=[1,2,3,4]\n",
        "value_to_check=3\n",
        "if value_to_check in my_list :\n",
        "  print(f\"{value_to_check} is in the list. \")\n",
        "else:\n",
        "  print(f\"{value_to_check} is not the list. \")"
      ],
      "metadata": {
        "id": "XwonXG5BQLGr",
        "colab": {
          "base_uri": "https://localhost:8080/"
        },
        "outputId": "cc38246c-d77c-4b61-dcb5-932cd989b7b9"
      },
      "execution_count": 8,
      "outputs": [
        {
          "output_type": "stream",
          "name": "stdout",
          "text": [
            "3 is in the list. \n"
          ]
        }
      ]
    },
    {
      "cell_type": "code",
      "source": [
        "#5#"
      ],
      "metadata": {
        "id": "_LDSJ5nNVIa5"
      },
      "execution_count": null,
      "outputs": []
    },
    {
      "cell_type": "code",
      "source": [
        "my_dict = {'a': 1, 'b': 2, 'c': 3}\n",
        "\n",
        "for key in my_dict:\n",
        "    print(key, my_dict[key])\n"
      ],
      "metadata": {
        "colab": {
          "base_uri": "https://localhost:8080/"
        },
        "id": "iIx5NtyhXYZj",
        "outputId": "ac7f0244-2c41-4816-8f4f-c069c9a764e8"
      },
      "execution_count": 13,
      "outputs": [
        {
          "output_type": "stream",
          "name": "stdout",
          "text": [
            "a 1\n",
            "b 2\n",
            "c 3\n"
          ]
        }
      ]
    },
    {
      "cell_type": "code",
      "source": [
        "#6#\n",
        "list1 = [1, 2, 3]\n",
        "list2 = [1, 2, 3]\n",
        "\n",
        "if list1 == list2:\n",
        "    print(\"Lists are equal\")\n",
        "else:\n",
        "    print(\"Lists are not equal\")\n"
      ],
      "metadata": {
        "colab": {
          "base_uri": "https://localhost:8080/"
        },
        "id": "-rn-JU0KYkvJ",
        "outputId": "f65aa02c-ac5f-4bb5-cdfa-4076f9375637"
      },
      "execution_count": 14,
      "outputs": [
        {
          "output_type": "stream",
          "name": "stdout",
          "text": [
            "Lists are equal\n"
          ]
        }
      ]
    },
    {
      "cell_type": "code",
      "source": [
        "#7#\n",
        "def reverse_string(input_str):\n",
        "    reversed_str = ''\n",
        "    for char in input_str:\n",
        "        reversed_str = char + reversed_str\n",
        "    return reversed_str\n",
        "\n",
        "# Example usage:\n",
        "original_string = \"Hello, World!\"\n",
        "reversed_string = reverse_string(original_string)\n",
        "\n",
        "print(\"Original String:\", original_string)\n",
        "print(\"Reversed String:\", reversed_string)\n"
      ],
      "metadata": {
        "colab": {
          "base_uri": "https://localhost:8080/"
        },
        "id": "rqzlHnwlY3S3",
        "outputId": "f03f87bb-78fe-47af-e6e3-c3a3eeccde1c"
      },
      "execution_count": 15,
      "outputs": [
        {
          "output_type": "stream",
          "name": "stdout",
          "text": [
            "Original String: Hello, World!\n",
            "Reversed String: !dlroW ,olleH\n"
          ]
        }
      ]
    },
    {
      "cell_type": "code",
      "source": [
        "#8#\n",
        "def count_occu(input_list):\n",
        "    occu_count = {}\n",
        "\n",
        "    for emt in input_list:\n",
        "        if emt in occu_count:\n",
        "            occu_count[emt] += 1\n",
        "        else:\n",
        "            occu_count[emt] = 1\n",
        "\n",
        "    return occu_count\n",
        "\n",
        "my_list = [1, 2, 3, 1, 2, 3, 4, 5, 1, 2]\n",
        "result = count_occu(my_list)\n",
        "\n",
        "print(\"List:\", my_list)\n",
        "print(\"Occu Count:\", result)\n"
      ],
      "metadata": {
        "colab": {
          "base_uri": "https://localhost:8080/"
        },
        "id": "L1PhHUYCZfon",
        "outputId": "2cb39415-29aa-45ac-d5b5-81dce6b19ea2"
      },
      "execution_count": 20,
      "outputs": [
        {
          "output_type": "stream",
          "name": "stdout",
          "text": [
            "List: [1, 2, 3, 1, 2, 3, 4, 5, 1, 2]\n",
            "Occu Count: {1: 3, 2: 3, 3: 2, 4: 1, 5: 1}\n"
          ]
        }
      ]
    },
    {
      "cell_type": "code",
      "source": [
        "#9#\n",
        "def find_sec_lar(numbers):\n",
        "    if len(numbers) < 2:\n",
        "        return \"List must have at least two elements\"\n",
        "\n",
        "    lar = second_lar = float('-inf')\n",
        "\n",
        "    for num in numbers:\n",
        "        if num > lar:\n",
        "            sec_lar = lar\n",
        "            lar = num\n",
        "        elif num > sec_lar and num != lar:\n",
        "            second_lar = num\n",
        "\n",
        "    if sec_lar == float('-inf'):\n",
        "        return \"No sec lar element found\"\n",
        "    else:\n",
        "        return sec_lar\n",
        "my_list = [10, 5, 8, 12, 3, 15, 7]\n",
        "result = find_sec_lar(my_list)\n",
        "print(\"Sec lar element:\", result)\n"
      ],
      "metadata": {
        "colab": {
          "base_uri": "https://localhost:8080/"
        },
        "id": "yfDUtYKjZswP",
        "outputId": "601a3574-ee72-45bf-e4fd-5ec396a02bc3"
      },
      "execution_count": 21,
      "outputs": [
        {
          "output_type": "stream",
          "name": "stdout",
          "text": [
            "Sec lar element: 12\n"
          ]
        }
      ]
    },
    {
      "cell_type": "code",
      "source": [
        "#10#\n",
        "def reverse_words(sen):\n",
        "    words = sen.split()\n",
        "    reversed_sen = ' '.join(reversed(words))\n",
        "    return reversed_sen\n",
        "input_sen = \"Hello, how are you?\"\n",
        "output_sen = reverse_words(input_sen)\n",
        "print(output_sen)\n"
      ],
      "metadata": {
        "colab": {
          "base_uri": "https://localhost:8080/"
        },
        "id": "Mtln8fc2a_Zf",
        "outputId": "3f4a068d-e66e-4889-e84d-3246514570e9"
      },
      "execution_count": 22,
      "outputs": [
        {
          "output_type": "stream",
          "name": "stdout",
          "text": [
            "you? are how Hello,\n"
          ]
        }
      ]
    },
    {
      "cell_type": "code",
      "source": [],
      "metadata": {
        "id": "UJa1En5abiIW"
      },
      "execution_count": null,
      "outputs": []
    }
  ]
}